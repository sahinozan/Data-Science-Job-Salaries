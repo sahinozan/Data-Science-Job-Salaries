{
 "cells": [
  {
   "cell_type": "markdown",
   "id": "3ac20e8e",
   "metadata": {
    "papermill": {
     "duration": 0.003013,
     "end_time": "2022-08-21T11:29:34.247963",
     "exception": false,
     "start_time": "2022-08-21T11:29:34.244950",
     "status": "completed"
    },
    "tags": []
   },
   "source": [
    "## ⛏️ Imports"
   ]
  },
  {
   "cell_type": "code",
   "execution_count": 1,
   "id": "5764c15c",
   "metadata": {
    "execution": {
     "iopub.execute_input": "2022-08-21T11:29:34.254989Z",
     "iopub.status.busy": "2022-08-21T11:29:34.253904Z",
     "iopub.status.idle": "2022-08-21T11:29:35.310261Z",
     "shell.execute_reply": "2022-08-21T11:29:35.309114Z"
    },
    "papermill": {
     "duration": 1.063178,
     "end_time": "2022-08-21T11:29:35.313269",
     "exception": false,
     "start_time": "2022-08-21T11:29:34.250091",
     "status": "completed"
    },
    "tags": []
   },
   "outputs": [],
   "source": [
    "import numpy as np\n",
    "import pandas as pd\n",
    "import matplotlib.pyplot as plt\n",
    "import seaborn as sns\n",
    "import warnings\n",
    "\n",
    "warnings.filterwarnings(\"ignore\")\n",
    "np.set_printoptions(precision=5)"
   ]
  },
  {
   "cell_type": "markdown",
   "id": "31de6de1",
   "metadata": {
    "papermill": {
     "duration": 0.001582,
     "end_time": "2022-08-21T11:29:35.316898",
     "exception": false,
     "start_time": "2022-08-21T11:29:35.315316",
     "status": "completed"
    },
    "tags": []
   },
   "source": [
    "## 📊 Plot Configuration "
   ]
  },
  {
   "cell_type": "code",
   "execution_count": 2,
   "id": "5aaef597",
   "metadata": {
    "execution": {
     "iopub.execute_input": "2022-08-21T11:29:35.322800Z",
     "iopub.status.busy": "2022-08-21T11:29:35.321699Z",
     "iopub.status.idle": "2022-08-21T11:29:35.329400Z",
     "shell.execute_reply": "2022-08-21T11:29:35.328496Z"
    },
    "papermill": {
     "duration": 0.013057,
     "end_time": "2022-08-21T11:29:35.331677",
     "exception": false,
     "start_time": "2022-08-21T11:29:35.318620",
     "status": "completed"
    },
    "tags": []
   },
   "outputs": [],
   "source": [
    "plt.rcParams['figure.dpi'] = 300\n",
    "plt.rcParams['savefig.dpi'] = 300\n",
    "sns.set(rc={\"figure.dpi\": 300, 'savefig.dpi': 300})\n",
    "sns.set_context('notebook')\n",
    "sns.set_style(\"ticks\")\n",
    "FIG_FONT = dict(family=\"Helvetica, Ariel\", weight=\"bold\", color=\"#7f7f7f\")"
   ]
  }
 ],
 "metadata": {
  "kernelspec": {
   "display_name": "Python 3",
   "language": "python",
   "name": "python3"
  },
  "language_info": {
   "codemirror_mode": {
    "name": "ipython",
    "version": 3
   },
   "file_extension": ".py",
   "mimetype": "text/x-python",
   "name": "python",
   "nbconvert_exporter": "python",
   "pygments_lexer": "ipython3",
   "version": "3.7.12"
  },
  "papermill": {
   "default_parameters": {},
   "duration": 10.714478,
   "end_time": "2022-08-21T11:29:36.056359",
   "environment_variables": {},
   "exception": null,
   "input_path": "__notebook__.ipynb",
   "output_path": "__notebook__.ipynb",
   "parameters": {},
   "start_time": "2022-08-21T11:29:25.341881",
   "version": "2.3.4"
  }
 },
 "nbformat": 4,
 "nbformat_minor": 5
}
