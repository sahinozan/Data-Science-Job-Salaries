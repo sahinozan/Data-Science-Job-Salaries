{
 "cells": [
  {
   "cell_type": "markdown",
   "id": "2064380d",
   "metadata": {
    "papermill": {
     "duration": 0.006355,
     "end_time": "2022-08-21T11:53:11.387566",
     "exception": false,
     "start_time": "2022-08-21T11:53:11.381211",
     "status": "completed"
    },
    "tags": []
   },
   "source": [
    "## ⛏️ Imports"
   ]
  },
  {
   "cell_type": "code",
   "execution_count": 1,
   "id": "52a6a88f",
   "metadata": {
    "execution": {
     "iopub.execute_input": "2022-08-21T11:53:11.398594Z",
     "iopub.status.busy": "2022-08-21T11:53:11.397976Z",
     "iopub.status.idle": "2022-08-21T11:53:12.486048Z",
     "shell.execute_reply": "2022-08-21T11:53:12.485053Z"
    },
    "papermill": {
     "duration": 1.097363,
     "end_time": "2022-08-21T11:53:12.489406",
     "exception": false,
     "start_time": "2022-08-21T11:53:11.392043",
     "status": "completed"
    },
    "tags": []
   },
   "outputs": [],
   "source": [
    "import numpy as np\n",
    "import pandas as pd\n",
    "import matplotlib.pyplot as plt\n",
    "import seaborn as sns\n",
    "import warnings\n",
    "\n",
    "warnings.filterwarnings(\"ignore\")\n",
    "np.set_printoptions(precision=5)"
   ]
  },
  {
   "cell_type": "markdown",
   "id": "6e28343c",
   "metadata": {
    "papermill": {
     "duration": 0.003413,
     "end_time": "2022-08-21T11:53:12.496693",
     "exception": false,
     "start_time": "2022-08-21T11:53:12.493280",
     "status": "completed"
    },
    "tags": []
   },
   "source": [
    "## 📊 Plot Configuration "
   ]
  },
  {
   "cell_type": "code",
   "execution_count": 2,
   "id": "2353c8cb",
   "metadata": {
    "execution": {
     "iopub.execute_input": "2022-08-21T11:53:12.506086Z",
     "iopub.status.busy": "2022-08-21T11:53:12.505407Z",
     "iopub.status.idle": "2022-08-21T11:53:12.511870Z",
     "shell.execute_reply": "2022-08-21T11:53:12.511091Z"
    },
    "papermill": {
     "duration": 0.013434,
     "end_time": "2022-08-21T11:53:12.513869",
     "exception": false,
     "start_time": "2022-08-21T11:53:12.500435",
     "status": "completed"
    },
    "tags": []
   },
   "outputs": [],
   "source": [
    "plt.rcParams['figure.dpi'] = 300\n",
    "plt.rcParams['savefig.dpi'] = 300\n",
    "sns.set(rc={\"figure.dpi\": 300, 'savefig.dpi': 300})\n",
    "sns.set_context('notebook')\n",
    "sns.set_style(\"ticks\")\n",
    "FIG_FONT = dict(family=\"Helvetica, Ariel\", weight=\"bold\", color=\"#7f7f7f\")"
   ]
  },
  {
   "cell_type": "markdown",
   "id": "5b395854",
   "metadata": {
    "papermill": {
     "duration": 0.003395,
     "end_time": "2022-08-21T11:53:12.520977",
     "exception": false,
     "start_time": "2022-08-21T11:53:12.517582",
     "status": "completed"
    },
    "tags": []
   },
   "source": [
    "## 🔎 Checking the Dataset\n",
    "Let's first check the dataset to get a first insight."
   ]
  },
  {
   "cell_type": "code",
   "execution_count": 3,
   "id": "4dcb509c",
   "metadata": {
    "execution": {
     "iopub.execute_input": "2022-08-21T11:53:12.533182Z",
     "iopub.status.busy": "2022-08-21T11:53:12.531373Z",
     "iopub.status.idle": "2022-08-21T11:53:12.589798Z",
     "shell.execute_reply": "2022-08-21T11:53:12.588221Z"
    },
    "papermill": {
     "duration": 0.069063,
     "end_time": "2022-08-21T11:53:12.593970",
     "exception": false,
     "start_time": "2022-08-21T11:53:12.524907",
     "status": "completed"
    },
    "tags": []
   },
   "outputs": [
    {
     "data": {
      "text/html": [
       "<div>\n",
       "<style scoped>\n",
       "    .dataframe tbody tr th:only-of-type {\n",
       "        vertical-align: middle;\n",
       "    }\n",
       "\n",
       "    .dataframe tbody tr th {\n",
       "        vertical-align: top;\n",
       "    }\n",
       "\n",
       "    .dataframe thead th {\n",
       "        text-align: right;\n",
       "    }\n",
       "</style>\n",
       "<table border=\"1\" class=\"dataframe\">\n",
       "  <thead>\n",
       "    <tr style=\"text-align: right;\">\n",
       "      <th></th>\n",
       "      <th>work_year</th>\n",
       "      <th>experience_level</th>\n",
       "      <th>employment_type</th>\n",
       "      <th>job_title</th>\n",
       "      <th>salary</th>\n",
       "      <th>salary_currency</th>\n",
       "      <th>salary_in_usd</th>\n",
       "      <th>employee_residence</th>\n",
       "      <th>remote_ratio</th>\n",
       "      <th>company_location</th>\n",
       "      <th>company_size</th>\n",
       "    </tr>\n",
       "  </thead>\n",
       "  <tbody>\n",
       "    <tr>\n",
       "      <th>0</th>\n",
       "      <td>2020</td>\n",
       "      <td>MI</td>\n",
       "      <td>FT</td>\n",
       "      <td>Data Scientist</td>\n",
       "      <td>70000</td>\n",
       "      <td>EUR</td>\n",
       "      <td>79833</td>\n",
       "      <td>DE</td>\n",
       "      <td>0</td>\n",
       "      <td>DE</td>\n",
       "      <td>L</td>\n",
       "    </tr>\n",
       "    <tr>\n",
       "      <th>1</th>\n",
       "      <td>2020</td>\n",
       "      <td>SE</td>\n",
       "      <td>FT</td>\n",
       "      <td>Machine Learning Scientist</td>\n",
       "      <td>260000</td>\n",
       "      <td>USD</td>\n",
       "      <td>260000</td>\n",
       "      <td>JP</td>\n",
       "      <td>0</td>\n",
       "      <td>JP</td>\n",
       "      <td>S</td>\n",
       "    </tr>\n",
       "    <tr>\n",
       "      <th>2</th>\n",
       "      <td>2020</td>\n",
       "      <td>SE</td>\n",
       "      <td>FT</td>\n",
       "      <td>Big Data Engineer</td>\n",
       "      <td>85000</td>\n",
       "      <td>GBP</td>\n",
       "      <td>109024</td>\n",
       "      <td>GB</td>\n",
       "      <td>50</td>\n",
       "      <td>GB</td>\n",
       "      <td>M</td>\n",
       "    </tr>\n",
       "    <tr>\n",
       "      <th>3</th>\n",
       "      <td>2020</td>\n",
       "      <td>MI</td>\n",
       "      <td>FT</td>\n",
       "      <td>Product Data Analyst</td>\n",
       "      <td>20000</td>\n",
       "      <td>USD</td>\n",
       "      <td>20000</td>\n",
       "      <td>HN</td>\n",
       "      <td>0</td>\n",
       "      <td>HN</td>\n",
       "      <td>S</td>\n",
       "    </tr>\n",
       "    <tr>\n",
       "      <th>4</th>\n",
       "      <td>2020</td>\n",
       "      <td>SE</td>\n",
       "      <td>FT</td>\n",
       "      <td>Machine Learning Engineer</td>\n",
       "      <td>150000</td>\n",
       "      <td>USD</td>\n",
       "      <td>150000</td>\n",
       "      <td>US</td>\n",
       "      <td>50</td>\n",
       "      <td>US</td>\n",
       "      <td>L</td>\n",
       "    </tr>\n",
       "  </tbody>\n",
       "</table>\n",
       "</div>"
      ],
      "text/plain": [
       "   work_year experience_level employment_type                   job_title  \\\n",
       "0       2020               MI              FT              Data Scientist   \n",
       "1       2020               SE              FT  Machine Learning Scientist   \n",
       "2       2020               SE              FT           Big Data Engineer   \n",
       "3       2020               MI              FT        Product Data Analyst   \n",
       "4       2020               SE              FT   Machine Learning Engineer   \n",
       "\n",
       "   salary salary_currency  salary_in_usd employee_residence  remote_ratio  \\\n",
       "0   70000             EUR          79833                 DE             0   \n",
       "1  260000             USD         260000                 JP             0   \n",
       "2   85000             GBP         109024                 GB            50   \n",
       "3   20000             USD          20000                 HN             0   \n",
       "4  150000             USD         150000                 US            50   \n",
       "\n",
       "  company_location company_size  \n",
       "0               DE            L  \n",
       "1               JP            S  \n",
       "2               GB            M  \n",
       "3               HN            S  \n",
       "4               US            L  "
      ]
     },
     "execution_count": 3,
     "metadata": {},
     "output_type": "execute_result"
    }
   ],
   "source": [
    "salaries = pd.read_csv(\"../input/data-science-job-salaries/ds_salaries.csv\", index_col=0)\n",
    "salaries.head()"
   ]
  },
  {
   "cell_type": "code",
   "execution_count": 4,
   "id": "988c9398",
   "metadata": {
    "execution": {
     "iopub.execute_input": "2022-08-21T11:53:12.608669Z",
     "iopub.status.busy": "2022-08-21T11:53:12.607640Z",
     "iopub.status.idle": "2022-08-21T11:53:12.630126Z",
     "shell.execute_reply": "2022-08-21T11:53:12.628963Z"
    },
    "papermill": {
     "duration": 0.035472,
     "end_time": "2022-08-21T11:53:12.636385",
     "exception": false,
     "start_time": "2022-08-21T11:53:12.600913",
     "status": "completed"
    },
    "tags": []
   },
   "outputs": [
    {
     "name": "stdout",
     "output_type": "stream",
     "text": [
      "<class 'pandas.core.frame.DataFrame'>\n",
      "Int64Index: 607 entries, 0 to 606\n",
      "Data columns (total 11 columns):\n",
      " #   Column              Non-Null Count  Dtype \n",
      "---  ------              --------------  ----- \n",
      " 0   work_year           607 non-null    int64 \n",
      " 1   experience_level    607 non-null    object\n",
      " 2   employment_type     607 non-null    object\n",
      " 3   job_title           607 non-null    object\n",
      " 4   salary              607 non-null    int64 \n",
      " 5   salary_currency     607 non-null    object\n",
      " 6   salary_in_usd       607 non-null    int64 \n",
      " 7   employee_residence  607 non-null    object\n",
      " 8   remote_ratio        607 non-null    int64 \n",
      " 9   company_location    607 non-null    object\n",
      " 10  company_size        607 non-null    object\n",
      "dtypes: int64(4), object(7)\n",
      "memory usage: 56.9+ KB\n"
     ]
    }
   ],
   "source": [
    "salaries.info()"
   ]
  },
  {
   "cell_type": "markdown",
   "id": "3197c498",
   "metadata": {
    "papermill": {
     "duration": 0.004128,
     "end_time": "2022-08-21T11:53:12.647130",
     "exception": false,
     "start_time": "2022-08-21T11:53:12.643002",
     "status": "completed"
    },
    "tags": []
   },
   "source": [
    "## 💡 Understanding the Data\n",
    "Dataset consists of 11 features.\n",
    "1. **work_year**: The year the salary was paid.\n",
    "2. **experience_level**: The experience level in the job during the year.\n",
    "    - EN (Entry-level) / Junior\n",
    "    - MI (Mid-level) / Intermediate \n",
    "    - SE (Senior-level) / Expert\n",
    "    - EX (Expert-level) / Director\n",
    "3. **employment_type**: The type of employment for the role.\n",
    "    - PT (Part-time)\n",
    "    - FT (Full-time)\n",
    "    - CT (Contact)\n",
    "    - FL (Freelance)\n",
    "4. **job_title**: The role worked during the year.\n",
    "5. **salary**: The total gross salary amount paid.\n",
    "6. **salary_currency**: The currency of the salary paid as an ISO 4217 currency code.\n",
    "    - USD (United States Dollar)\n",
    "    - EUR (Euro)\n",
    "    - GBP (Great Britain Pound)\n",
    "    - ...\n",
    "7. **salary_in_usd**: The salary in USD(United States Dollars).\n",
    "8. **employee_residence**: Employee's primary country of residence in during the work year as ISO 3166 country code.\n",
    "    - DE (Germany)\n",
    "    - JP (Japan)\n",
    "    - GB (Great Britain)\n",
    "    - ...\n",
    "9. **remote_ratio**: The overall amount of work done remotely.\n",
    "    - 0 (No remote)\n",
    "    - 50 (Partially remote)\n",
    "    - 100 (Fully remote)\n",
    "10. **company_location**: The country of the employer's main office or contracting branch as an ISO 3166 country code.\n",
    "    - DE (Germany)\n",
    "    - JP (Japan)\n",
    "    - GB (Great Britain)\n",
    "    - ...\n",
    "11. **company_size**: The average number of people that worked for the company during the year.\n",
    "    - S (Small) (< 50)\n",
    "    - M (Medium) (50 < & > 250)\n",
    "    - L (Large) (> 250)"
   ]
  },
  {
   "cell_type": "markdown",
   "id": "d28c78e4",
   "metadata": {
    "papermill": {
     "duration": 0.004092,
     "end_time": "2022-08-21T11:53:12.655529",
     "exception": false,
     "start_time": "2022-08-21T11:53:12.651437",
     "status": "completed"
    },
    "tags": []
   },
   "source": [
    "I will try to analyze the salaries only in **USD**. Therefore, I will remove the **salary_currency** and **salary** columns. Also change the name of the **salary_in_usd** column to just **salary**."
   ]
  },
  {
   "cell_type": "code",
   "execution_count": 5,
   "id": "5844cc21",
   "metadata": {
    "execution": {
     "iopub.execute_input": "2022-08-21T11:53:12.665769Z",
     "iopub.status.busy": "2022-08-21T11:53:12.665324Z",
     "iopub.status.idle": "2022-08-21T11:53:12.673912Z",
     "shell.execute_reply": "2022-08-21T11:53:12.672748Z"
    },
    "papermill": {
     "duration": 0.016461,
     "end_time": "2022-08-21T11:53:12.676280",
     "exception": false,
     "start_time": "2022-08-21T11:53:12.659819",
     "status": "completed"
    },
    "tags": []
   },
   "outputs": [],
   "source": [
    "salaries.drop(labels=[\"salary\", \"salary_currency\"], axis=1, inplace=True)\n",
    "salaries.rename(columns={\"salary_in_usd\": \"salary\"}, inplace=True)"
   ]
  },
  {
   "cell_type": "code",
   "execution_count": 6,
   "id": "afc02fa9",
   "metadata": {
    "execution": {
     "iopub.execute_input": "2022-08-21T11:53:12.686392Z",
     "iopub.status.busy": "2022-08-21T11:53:12.686031Z",
     "iopub.status.idle": "2022-08-21T11:53:12.700568Z",
     "shell.execute_reply": "2022-08-21T11:53:12.699344Z"
    },
    "papermill": {
     "duration": 0.022427,
     "end_time": "2022-08-21T11:53:12.702923",
     "exception": false,
     "start_time": "2022-08-21T11:53:12.680496",
     "status": "completed"
    },
    "tags": []
   },
   "outputs": [
    {
     "data": {
      "text/html": [
       "<div>\n",
       "<style scoped>\n",
       "    .dataframe tbody tr th:only-of-type {\n",
       "        vertical-align: middle;\n",
       "    }\n",
       "\n",
       "    .dataframe tbody tr th {\n",
       "        vertical-align: top;\n",
       "    }\n",
       "\n",
       "    .dataframe thead th {\n",
       "        text-align: right;\n",
       "    }\n",
       "</style>\n",
       "<table border=\"1\" class=\"dataframe\">\n",
       "  <thead>\n",
       "    <tr style=\"text-align: right;\">\n",
       "      <th></th>\n",
       "      <th>work_year</th>\n",
       "      <th>experience_level</th>\n",
       "      <th>employment_type</th>\n",
       "      <th>job_title</th>\n",
       "      <th>salary</th>\n",
       "      <th>employee_residence</th>\n",
       "      <th>remote_ratio</th>\n",
       "      <th>company_location</th>\n",
       "      <th>company_size</th>\n",
       "    </tr>\n",
       "  </thead>\n",
       "  <tbody>\n",
       "    <tr>\n",
       "      <th>0</th>\n",
       "      <td>2020</td>\n",
       "      <td>MI</td>\n",
       "      <td>FT</td>\n",
       "      <td>Data Scientist</td>\n",
       "      <td>79833</td>\n",
       "      <td>DE</td>\n",
       "      <td>0</td>\n",
       "      <td>DE</td>\n",
       "      <td>L</td>\n",
       "    </tr>\n",
       "    <tr>\n",
       "      <th>1</th>\n",
       "      <td>2020</td>\n",
       "      <td>SE</td>\n",
       "      <td>FT</td>\n",
       "      <td>Machine Learning Scientist</td>\n",
       "      <td>260000</td>\n",
       "      <td>JP</td>\n",
       "      <td>0</td>\n",
       "      <td>JP</td>\n",
       "      <td>S</td>\n",
       "    </tr>\n",
       "    <tr>\n",
       "      <th>2</th>\n",
       "      <td>2020</td>\n",
       "      <td>SE</td>\n",
       "      <td>FT</td>\n",
       "      <td>Big Data Engineer</td>\n",
       "      <td>109024</td>\n",
       "      <td>GB</td>\n",
       "      <td>50</td>\n",
       "      <td>GB</td>\n",
       "      <td>M</td>\n",
       "    </tr>\n",
       "    <tr>\n",
       "      <th>3</th>\n",
       "      <td>2020</td>\n",
       "      <td>MI</td>\n",
       "      <td>FT</td>\n",
       "      <td>Product Data Analyst</td>\n",
       "      <td>20000</td>\n",
       "      <td>HN</td>\n",
       "      <td>0</td>\n",
       "      <td>HN</td>\n",
       "      <td>S</td>\n",
       "    </tr>\n",
       "    <tr>\n",
       "      <th>4</th>\n",
       "      <td>2020</td>\n",
       "      <td>SE</td>\n",
       "      <td>FT</td>\n",
       "      <td>Machine Learning Engineer</td>\n",
       "      <td>150000</td>\n",
       "      <td>US</td>\n",
       "      <td>50</td>\n",
       "      <td>US</td>\n",
       "      <td>L</td>\n",
       "    </tr>\n",
       "  </tbody>\n",
       "</table>\n",
       "</div>"
      ],
      "text/plain": [
       "   work_year experience_level employment_type                   job_title  \\\n",
       "0       2020               MI              FT              Data Scientist   \n",
       "1       2020               SE              FT  Machine Learning Scientist   \n",
       "2       2020               SE              FT           Big Data Engineer   \n",
       "3       2020               MI              FT        Product Data Analyst   \n",
       "4       2020               SE              FT   Machine Learning Engineer   \n",
       "\n",
       "   salary employee_residence  remote_ratio company_location company_size  \n",
       "0   79833                 DE             0               DE            L  \n",
       "1  260000                 JP             0               JP            S  \n",
       "2  109024                 GB            50               GB            M  \n",
       "3   20000                 HN             0               HN            S  \n",
       "4  150000                 US            50               US            L  "
      ]
     },
     "execution_count": 6,
     "metadata": {},
     "output_type": "execute_result"
    }
   ],
   "source": [
    "salaries.head()"
   ]
  },
  {
   "cell_type": "markdown",
   "id": "0239b0d7",
   "metadata": {
    "papermill": {
     "duration": 0.004021,
     "end_time": "2022-08-21T11:53:12.711411",
     "exception": false,
     "start_time": "2022-08-21T11:53:12.707390",
     "status": "completed"
    },
    "tags": []
   },
   "source": [
    "## Checking Null Values\n",
    "First let's check the dataset if it contains any null values."
   ]
  },
  {
   "cell_type": "code",
   "execution_count": 7,
   "id": "0118af1c",
   "metadata": {
    "execution": {
     "iopub.execute_input": "2022-08-21T11:53:12.721678Z",
     "iopub.status.busy": "2022-08-21T11:53:12.721308Z",
     "iopub.status.idle": "2022-08-21T11:53:12.730750Z",
     "shell.execute_reply": "2022-08-21T11:53:12.729601Z"
    },
    "papermill": {
     "duration": 0.01752,
     "end_time": "2022-08-21T11:53:12.733085",
     "exception": false,
     "start_time": "2022-08-21T11:53:12.715565",
     "status": "completed"
    },
    "tags": []
   },
   "outputs": [
    {
     "data": {
      "text/plain": [
       "work_year             0\n",
       "experience_level      0\n",
       "employment_type       0\n",
       "job_title             0\n",
       "salary                0\n",
       "employee_residence    0\n",
       "remote_ratio          0\n",
       "company_location      0\n",
       "company_size          0\n",
       "dtype: int64"
      ]
     },
     "execution_count": 7,
     "metadata": {},
     "output_type": "execute_result"
    }
   ],
   "source": [
    "salaries.isna().sum()"
   ]
  },
  {
   "cell_type": "markdown",
   "id": "1bceddd5",
   "metadata": {
    "papermill": {
     "duration": 0.004402,
     "end_time": "2022-08-21T11:53:12.742159",
     "exception": false,
     "start_time": "2022-08-21T11:53:12.737757",
     "status": "completed"
    },
    "tags": []
   },
   "source": [
    "There are no null values in the dataset which is good for us."
   ]
  }
 ],
 "metadata": {
  "kernelspec": {
   "display_name": "Python 3",
   "language": "python",
   "name": "python3"
  },
  "language_info": {
   "codemirror_mode": {
    "name": "ipython",
    "version": 3
   },
   "file_extension": ".py",
   "mimetype": "text/x-python",
   "name": "python",
   "nbconvert_exporter": "python",
   "pygments_lexer": "ipython3",
   "version": "3.7.12"
  },
  "papermill": {
   "default_parameters": {},
   "duration": 11.256736,
   "end_time": "2022-08-21T11:53:13.468551",
   "environment_variables": {},
   "exception": null,
   "input_path": "__notebook__.ipynb",
   "output_path": "__notebook__.ipynb",
   "parameters": {},
   "start_time": "2022-08-21T11:53:02.211815",
   "version": "2.3.4"
  }
 },
 "nbformat": 4,
 "nbformat_minor": 5
}
