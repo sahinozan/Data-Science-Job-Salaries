{
 "cells": [
  {
   "cell_type": "markdown",
   "id": "41ea1bf1",
   "metadata": {
    "papermill": {
     "duration": 0.002659,
     "end_time": "2022-08-21T11:27:28.113715",
     "exception": false,
     "start_time": "2022-08-21T11:27:28.111056",
     "status": "completed"
    },
    "tags": []
   },
   "source": [
    "## ⛏️ Imports"
   ]
  },
  {
   "cell_type": "code",
   "execution_count": null,
   "id": "0a4cb513",
   "metadata": {
    "papermill": {
     "duration": 0.001092,
     "end_time": "2022-08-21T11:27:28.116479",
     "exception": false,
     "start_time": "2022-08-21T11:27:28.115387",
     "status": "completed"
    },
    "tags": []
   },
   "outputs": [],
   "source": []
  }
 ],
 "metadata": {
  "kernelspec": {
   "display_name": "Python 3",
   "language": "python",
   "name": "python3"
  },
  "language_info": {
   "codemirror_mode": {
    "name": "ipython",
    "version": 3
   },
   "file_extension": ".py",
   "mimetype": "text/x-python",
   "name": "python",
   "nbconvert_exporter": "python",
   "pygments_lexer": "ipython3",
   "version": "3.7.12"
  },
  "papermill": {
   "default_parameters": {},
   "duration": 9.831941,
   "end_time": "2022-08-21T11:27:28.744013",
   "environment_variables": {},
   "exception": null,
   "input_path": "__notebook__.ipynb",
   "output_path": "__notebook__.ipynb",
   "parameters": {},
   "start_time": "2022-08-21T11:27:18.912072",
   "version": "2.3.4"
  }
 },
 "nbformat": 4,
 "nbformat_minor": 5
}
